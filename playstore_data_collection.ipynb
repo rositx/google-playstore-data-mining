{
  "nbformat": 4,
  "nbformat_minor": 0,
  "metadata": {
    "colab": {
      "provenance": [],
      "include_colab_link": true
    },
    "kernelspec": {
      "name": "python3",
      "display_name": "Python 3"
    },
    "language_info": {
      "name": "python"
    }
  },
  "cells": [
    {
      "cell_type": "markdown",
      "metadata": {
        "id": "view-in-github",
        "colab_type": "text"
      },
      "source": [
        "<a href=\"https://colab.research.google.com/github/rositx/google-playstore-data-mining/blob/main/playstore_data_collection.ipynb\" target=\"_parent\"><img src=\"https://colab.research.google.com/assets/colab-badge.svg\" alt=\"Open In Colab\"/></a>"
      ]
    },
    {
      "cell_type": "markdown",
      "source": [
        "# Collect all play store data"
      ],
      "metadata": {
        "id": "Y0J137KHJHYb"
      }
    },
    {
      "cell_type": "code",
      "source": [
        "#import statements\n",
        "import requests\n",
        "from bs4 import BeautifulSoup\n",
        "from lxml import html\n",
        "from datetime import datetime\n",
        "import pandas as pd\n",
        "from datetime import datetime\n"
      ],
      "metadata": {
        "id": "wJ34LW2ynDYg"
      },
      "execution_count": 1,
      "outputs": []
    },
    {
      "cell_type": "code",
      "source": [
        "#get all possible urls\n",
        "all_urls=[\"https://play.google.com/store/games?device=phone&hl=en&gl=US\",\"https://play.google.com/store/search?q=Multiplayer+games&c=apps&hl=en&gl=US\",\"https://play.google.com/store/search?q=Platformer+games&c=apps&hl=en&gl=US\",\"https://play.google.com/store/apps/category/GAME_ARCADE?hl=en&gl=US\",\"https://play.google.com/store/search?q=Offline+games&c=apps&hl=en&gl=US\",\"https://play.google.com/store/search?q=Shooter+games&c=apps&hl=en&gl=US\",\"https://play.google.com/store/search?q=Competitive+multiplayer+games&c=apps&hl=en&gl=US\",\"https://play.google.com/store/search?q=Realistic+games&c=apps&hl=en&gl=US\",\"https://play.google.com/store/apps/category/GAME_CASUAL?hl=en&gl=US\"]\n",
        "apps_ids=[]"
      ],
      "metadata": {
        "id": "E0ZsrNiDlY1C"
      },
      "execution_count": 2,
      "outputs": []
    },
    {
      "cell_type": "code",
      "source": [
        "def get_app_ids(app_ids,all_urls):\n",
        "  #go to each url to get app ids\n",
        "  for url in all_urls:\n",
        "    response = requests.get(url)\n",
        "    content = html.fromstring(response.content)\n",
        "    app_links = content.xpath('//a')\n",
        "    #go through all links\n",
        "    for link in app_links:\n",
        "      apps=link.get(\"href\")\n",
        "      #check for valid links\n",
        "      if(apps[0:23]=='/store/apps/details?id='):\n",
        "        #store app ids in the list\n",
        "        app_ids.append(apps[23:])"
      ],
      "metadata": {
        "id": "CLL-_nhCnWNe"
      },
      "execution_count": 3,
      "outputs": []
    },
    {
      "cell_type": "code",
      "source": [
        "get_app_ids(apps_ids,all_urls)\n",
        "print(len(apps_ids))\n",
        "apps_ids=list(set(apps_ids))\n",
        "len(apps_ids)"
      ],
      "metadata": {
        "colab": {
          "base_uri": "https://localhost:8080/"
        },
        "id": "pdKHAqKxoqtZ",
        "outputId": "6bf82e5c-97fd-4591-ed1b-9562b6c98570"
      },
      "execution_count": 4,
      "outputs": [
        {
          "output_type": "stream",
          "name": "stdout",
          "text": [
            "500\n"
          ]
        },
        {
          "output_type": "execute_result",
          "data": {
            "text/plain": [
              "304"
            ]
          },
          "metadata": {},
          "execution_count": 4
        }
      ]
    },
    {
      "cell_type": "code",
      "source": [
        "def get_all_data(app_id):\n",
        "  app_url='https://play.google.com/store/apps/details?id='+app_id+'&hl=en&gl=US'\n",
        "  response = requests.get(app_url)\n",
        "  content = html.fromstring(response.content)\n",
        "  # app_name = soup.find(\"h1\", class_=\"Fd93Bb ynrBgc xwcR9d\").text.strip()\n",
        "  app_name_element=content.xpath('//h1')\n",
        "  app_name=app_name_element[0].text_content()\n",
        "  editor_choice_element = content.xpath('//span[@class=\"YVLXxf\"]')\n",
        "  editor_choice=True\n",
        "  if editor_choice_element==[]:\n",
        "    editor_choice=False\n",
        "  price_element = content.xpath('//div[@class=\"VfPpkd-dgl2Hf-ppHlrf-sM5MNb\"]')[0].text_content()\n",
        "  if(price_element=='Install'):\n",
        "    price=0\n",
        "  elif(price_element[0]=='$'):\n",
        "    price=float(price_element.strip('$').split()[0])\n",
        "  else:\n",
        "    return\n",
        "\n",
        "  content_rating_element=content.xpath('//span[@itemprop=\"contentRating\"]')\n",
        "  content_rating=content_rating_element[0].text_content()\n",
        "  downloads_element = content.xpath('//div[@class=\"ClM7O\"]')\n",
        "  downloads =downloads_element[1].text_content().strip().replace('M+', '000000').replace('B+', '000000000').replace('K+', '000')\n",
        "  rating_value= downloads_element[0].text_content().strip().replace('star', '')\n",
        "  tags_element=content.xpath('//div[@class=\"VfPpkd-LgbsSe VfPpkd-LgbsSe-OWXEXe-INsAgc VfPpkd-LgbsSe-OWXEXe-dgl2Hf Rj2Mlf OLiIxf PDpWxe P62QJc LQeN7 LMoCf\"]')\n",
        "  last_update=datetime.strptime(content.xpath('//div[@class=\"xg1aie\"]')[0].text_content(), '%b %d, %Y').date()\n",
        "  tags=[]\n",
        "  for tag in tags_element:\n",
        "    tags.append(tag.text_content())\n",
        "\n",
        "  return app_name,downloads,rating_value,editor_choice,content_rating,price,tags,last_update\n",
        "print(get_all_data('com.playrix.township'))\n",
        "get_all_data(apps_ids[11])"
      ],
      "metadata": {
        "colab": {
          "base_uri": "https://localhost:8080/"
        },
        "id": "miRtFjA9Thmh",
        "outputId": "eb087025-2bbb-475a-be09-ab4936fd7fd4"
      },
      "execution_count": 5,
      "outputs": [
        {
          "output_type": "stream",
          "name": "stdout",
          "text": [
            "('Township', '100000000', '4.7', False, 'Everyone', 0, ['Simulation', 'Management', 'Farming', 'Casual', 'Single player', 'Stylized'], datetime.date(2024, 1, 16))\n"
          ]
        },
        {
          "output_type": "execute_result",
          "data": {
            "text/plain": [
              "('Seven Knights Idle Adventure',\n",
              " '1000000',\n",
              " '4.4',\n",
              " False,\n",
              " 'Everyone 10+',\n",
              " 0,\n",
              " ['Role Playing', 'Idle RPG', 'Single player', 'Stylized', 'Anime'],\n",
              " datetime.date(2024, 2, 21))"
            ]
          },
          "metadata": {},
          "execution_count": 5
        }
      ]
    },
    {
      "cell_type": "code",
      "source": [
        "print(get_all_data(\"com.mobirix.dvking\"))"
      ],
      "metadata": {
        "colab": {
          "base_uri": "https://localhost:8080/"
        },
        "id": "FYCAVzlTa4Cc",
        "outputId": "92cd290f-963a-4de5-9c44-1331a6bec3b1"
      },
      "execution_count": 19,
      "outputs": [
        {
          "output_type": "stream",
          "name": "stdout",
          "text": [
            "None\n"
          ]
        }
      ]
    },
    {
      "cell_type": "code",
      "source": [
        "test = []\n",
        "# Assuming apps_ids is a list or iterable containing app IDs\n",
        "i=0\n",
        "for app_id in apps_ids:\n",
        "    data = get_all_data(app_id)\n",
        "    if data is not None and data[1]!='':\n",
        "      test.append(data)\n",
        "\n",
        "df = pd.DataFrame(test, columns=['app_name', 'downloads', 'rating_value', 'editor_choice', 'content_rating', 'price', 'tags', 'last_update'])\n"
      ],
      "metadata": {
        "id": "UIUyFsb0ftjz"
      },
      "execution_count": 22,
      "outputs": []
    },
    {
      "cell_type": "code",
      "source": [
        "df"
      ],
      "metadata": {
        "colab": {
          "base_uri": "https://localhost:8080/",
          "height": 1000
        },
        "id": "BZNeiQtXhXOH",
        "outputId": "7a71a5ca-e7c4-4579-900e-aeda2fd5a58e"
      },
      "execution_count": 23,
      "outputs": [
        {
          "output_type": "execute_result",
          "data": {
            "text/plain": [
              "                           app_name   downloads rating_value  editor_choice  \\\n",
              "0                    Zombie Tsunami   100000000          4.5           True   \n",
              "1                        Temple Run   500000000          4.3          False   \n",
              "2     Call of Duty: Mobile Season 2   100000000          4.3           True   \n",
              "3                            Reigns     1000000          4.5          False   \n",
              "4                      Blood Strike    10000000          4.6          False   \n",
              "..                              ...         ...          ...            ...   \n",
              "295                    Trivia Crack   100000000          4.4           True   \n",
              "296  Primrose Lake 5 - Mystery game       10000          4.8          False   \n",
              "297                     Golf Battle    50000000          4.5          False   \n",
              "298                    Ludo Kingâ¢  1000000000          4.0          False   \n",
              "299                 Game Dev Tycoon     1000000          4.8           True   \n",
              "\n",
              "    content_rating  price                                               tags  \\\n",
              "0     Everyone 10+   0.00  [Action, Platformer, Runner, Arcade, Single pl...   \n",
              "1         Everyone   0.00  [Action, Platformer, Runner, Arcade, Single pl...   \n",
              "2       Mature 17+   0.00  [Action, Shooter, Tactical shooter, Multiplaye...   \n",
              "3             Teen   2.99   [Adventure, Interactive story, Casual, Stylized]   \n",
              "4             Teen   0.00  [Action, Shooter, Tactical shooter, Casual, Mu...   \n",
              "..             ...    ...                                                ...   \n",
              "295       Everyone   0.00  [Trivia, Casual, Multiplayer, Competitive mult...   \n",
              "296   Everyone 10+   0.00                                           [Casual]   \n",
              "297       Everyone   0.00  [Sports, Golf, Casual, Multiplayer, Competitiv...   \n",
              "298       Everyone   0.00  [Board, Abstract strategy, Ludo, Casual, Multi...   \n",
              "299       Everyone   4.99  [Simulation, Management, Tycoon, Casual, Styli...   \n",
              "\n",
              "    last_update  \n",
              "0    2024-01-19  \n",
              "1    2023-11-29  \n",
              "2    2024-01-29  \n",
              "3    2023-10-12  \n",
              "4    2024-02-01  \n",
              "..          ...  \n",
              "295  2024-02-26  \n",
              "296  2024-02-08  \n",
              "297  2024-01-25  \n",
              "298  2024-02-08  \n",
              "299  2023-09-04  \n",
              "\n",
              "[300 rows x 8 columns]"
            ],
            "text/html": [
              "\n",
              "  <div id=\"df-9a56de0d-9672-49cd-b8e0-fefccfce200d\" class=\"colab-df-container\">\n",
              "    <div>\n",
              "<style scoped>\n",
              "    .dataframe tbody tr th:only-of-type {\n",
              "        vertical-align: middle;\n",
              "    }\n",
              "\n",
              "    .dataframe tbody tr th {\n",
              "        vertical-align: top;\n",
              "    }\n",
              "\n",
              "    .dataframe thead th {\n",
              "        text-align: right;\n",
              "    }\n",
              "</style>\n",
              "<table border=\"1\" class=\"dataframe\">\n",
              "  <thead>\n",
              "    <tr style=\"text-align: right;\">\n",
              "      <th></th>\n",
              "      <th>app_name</th>\n",
              "      <th>downloads</th>\n",
              "      <th>rating_value</th>\n",
              "      <th>editor_choice</th>\n",
              "      <th>content_rating</th>\n",
              "      <th>price</th>\n",
              "      <th>tags</th>\n",
              "      <th>last_update</th>\n",
              "    </tr>\n",
              "  </thead>\n",
              "  <tbody>\n",
              "    <tr>\n",
              "      <th>0</th>\n",
              "      <td>Zombie Tsunami</td>\n",
              "      <td>100000000</td>\n",
              "      <td>4.5</td>\n",
              "      <td>True</td>\n",
              "      <td>Everyone 10+</td>\n",
              "      <td>0.00</td>\n",
              "      <td>[Action, Platformer, Runner, Arcade, Single pl...</td>\n",
              "      <td>2024-01-19</td>\n",
              "    </tr>\n",
              "    <tr>\n",
              "      <th>1</th>\n",
              "      <td>Temple Run</td>\n",
              "      <td>500000000</td>\n",
              "      <td>4.3</td>\n",
              "      <td>False</td>\n",
              "      <td>Everyone</td>\n",
              "      <td>0.00</td>\n",
              "      <td>[Action, Platformer, Runner, Arcade, Single pl...</td>\n",
              "      <td>2023-11-29</td>\n",
              "    </tr>\n",
              "    <tr>\n",
              "      <th>2</th>\n",
              "      <td>Call of Duty: Mobile Season 2</td>\n",
              "      <td>100000000</td>\n",
              "      <td>4.3</td>\n",
              "      <td>True</td>\n",
              "      <td>Mature 17+</td>\n",
              "      <td>0.00</td>\n",
              "      <td>[Action, Shooter, Tactical shooter, Multiplaye...</td>\n",
              "      <td>2024-01-29</td>\n",
              "    </tr>\n",
              "    <tr>\n",
              "      <th>3</th>\n",
              "      <td>Reigns</td>\n",
              "      <td>1000000</td>\n",
              "      <td>4.5</td>\n",
              "      <td>False</td>\n",
              "      <td>Teen</td>\n",
              "      <td>2.99</td>\n",
              "      <td>[Adventure, Interactive story, Casual, Stylized]</td>\n",
              "      <td>2023-10-12</td>\n",
              "    </tr>\n",
              "    <tr>\n",
              "      <th>4</th>\n",
              "      <td>Blood Strike</td>\n",
              "      <td>10000000</td>\n",
              "      <td>4.6</td>\n",
              "      <td>False</td>\n",
              "      <td>Teen</td>\n",
              "      <td>0.00</td>\n",
              "      <td>[Action, Shooter, Tactical shooter, Casual, Mu...</td>\n",
              "      <td>2024-02-01</td>\n",
              "    </tr>\n",
              "    <tr>\n",
              "      <th>...</th>\n",
              "      <td>...</td>\n",
              "      <td>...</td>\n",
              "      <td>...</td>\n",
              "      <td>...</td>\n",
              "      <td>...</td>\n",
              "      <td>...</td>\n",
              "      <td>...</td>\n",
              "      <td>...</td>\n",
              "    </tr>\n",
              "    <tr>\n",
              "      <th>295</th>\n",
              "      <td>Trivia Crack</td>\n",
              "      <td>100000000</td>\n",
              "      <td>4.4</td>\n",
              "      <td>True</td>\n",
              "      <td>Everyone</td>\n",
              "      <td>0.00</td>\n",
              "      <td>[Trivia, Casual, Multiplayer, Competitive mult...</td>\n",
              "      <td>2024-02-26</td>\n",
              "    </tr>\n",
              "    <tr>\n",
              "      <th>296</th>\n",
              "      <td>Primrose Lake 5 - Mystery game</td>\n",
              "      <td>10000</td>\n",
              "      <td>4.8</td>\n",
              "      <td>False</td>\n",
              "      <td>Everyone 10+</td>\n",
              "      <td>0.00</td>\n",
              "      <td>[Casual]</td>\n",
              "      <td>2024-02-08</td>\n",
              "    </tr>\n",
              "    <tr>\n",
              "      <th>297</th>\n",
              "      <td>Golf Battle</td>\n",
              "      <td>50000000</td>\n",
              "      <td>4.5</td>\n",
              "      <td>False</td>\n",
              "      <td>Everyone</td>\n",
              "      <td>0.00</td>\n",
              "      <td>[Sports, Golf, Casual, Multiplayer, Competitiv...</td>\n",
              "      <td>2024-01-25</td>\n",
              "    </tr>\n",
              "    <tr>\n",
              "      <th>298</th>\n",
              "      <td>Ludo Kingâ¢</td>\n",
              "      <td>1000000000</td>\n",
              "      <td>4.0</td>\n",
              "      <td>False</td>\n",
              "      <td>Everyone</td>\n",
              "      <td>0.00</td>\n",
              "      <td>[Board, Abstract strategy, Ludo, Casual, Multi...</td>\n",
              "      <td>2024-02-08</td>\n",
              "    </tr>\n",
              "    <tr>\n",
              "      <th>299</th>\n",
              "      <td>Game Dev Tycoon</td>\n",
              "      <td>1000000</td>\n",
              "      <td>4.8</td>\n",
              "      <td>True</td>\n",
              "      <td>Everyone</td>\n",
              "      <td>4.99</td>\n",
              "      <td>[Simulation, Management, Tycoon, Casual, Styli...</td>\n",
              "      <td>2023-09-04</td>\n",
              "    </tr>\n",
              "  </tbody>\n",
              "</table>\n",
              "<p>300 rows × 8 columns</p>\n",
              "</div>\n",
              "    <div class=\"colab-df-buttons\">\n",
              "\n",
              "  <div class=\"colab-df-container\">\n",
              "    <button class=\"colab-df-convert\" onclick=\"convertToInteractive('df-9a56de0d-9672-49cd-b8e0-fefccfce200d')\"\n",
              "            title=\"Convert this dataframe to an interactive table.\"\n",
              "            style=\"display:none;\">\n",
              "\n",
              "  <svg xmlns=\"http://www.w3.org/2000/svg\" height=\"24px\" viewBox=\"0 -960 960 960\">\n",
              "    <path d=\"M120-120v-720h720v720H120Zm60-500h600v-160H180v160Zm220 220h160v-160H400v160Zm0 220h160v-160H400v160ZM180-400h160v-160H180v160Zm440 0h160v-160H620v160ZM180-180h160v-160H180v160Zm440 0h160v-160H620v160Z\"/>\n",
              "  </svg>\n",
              "    </button>\n",
              "\n",
              "  <style>\n",
              "    .colab-df-container {\n",
              "      display:flex;\n",
              "      gap: 12px;\n",
              "    }\n",
              "\n",
              "    .colab-df-convert {\n",
              "      background-color: #E8F0FE;\n",
              "      border: none;\n",
              "      border-radius: 50%;\n",
              "      cursor: pointer;\n",
              "      display: none;\n",
              "      fill: #1967D2;\n",
              "      height: 32px;\n",
              "      padding: 0 0 0 0;\n",
              "      width: 32px;\n",
              "    }\n",
              "\n",
              "    .colab-df-convert:hover {\n",
              "      background-color: #E2EBFA;\n",
              "      box-shadow: 0px 1px 2px rgba(60, 64, 67, 0.3), 0px 1px 3px 1px rgba(60, 64, 67, 0.15);\n",
              "      fill: #174EA6;\n",
              "    }\n",
              "\n",
              "    .colab-df-buttons div {\n",
              "      margin-bottom: 4px;\n",
              "    }\n",
              "\n",
              "    [theme=dark] .colab-df-convert {\n",
              "      background-color: #3B4455;\n",
              "      fill: #D2E3FC;\n",
              "    }\n",
              "\n",
              "    [theme=dark] .colab-df-convert:hover {\n",
              "      background-color: #434B5C;\n",
              "      box-shadow: 0px 1px 3px 1px rgba(0, 0, 0, 0.15);\n",
              "      filter: drop-shadow(0px 1px 2px rgba(0, 0, 0, 0.3));\n",
              "      fill: #FFFFFF;\n",
              "    }\n",
              "  </style>\n",
              "\n",
              "    <script>\n",
              "      const buttonEl =\n",
              "        document.querySelector('#df-9a56de0d-9672-49cd-b8e0-fefccfce200d button.colab-df-convert');\n",
              "      buttonEl.style.display =\n",
              "        google.colab.kernel.accessAllowed ? 'block' : 'none';\n",
              "\n",
              "      async function convertToInteractive(key) {\n",
              "        const element = document.querySelector('#df-9a56de0d-9672-49cd-b8e0-fefccfce200d');\n",
              "        const dataTable =\n",
              "          await google.colab.kernel.invokeFunction('convertToInteractive',\n",
              "                                                    [key], {});\n",
              "        if (!dataTable) return;\n",
              "\n",
              "        const docLinkHtml = 'Like what you see? Visit the ' +\n",
              "          '<a target=\"_blank\" href=https://colab.research.google.com/notebooks/data_table.ipynb>data table notebook</a>'\n",
              "          + ' to learn more about interactive tables.';\n",
              "        element.innerHTML = '';\n",
              "        dataTable['output_type'] = 'display_data';\n",
              "        await google.colab.output.renderOutput(dataTable, element);\n",
              "        const docLink = document.createElement('div');\n",
              "        docLink.innerHTML = docLinkHtml;\n",
              "        element.appendChild(docLink);\n",
              "      }\n",
              "    </script>\n",
              "  </div>\n",
              "\n",
              "\n",
              "<div id=\"df-7574c159-71b2-4acf-80b8-8dc79e360f09\">\n",
              "  <button class=\"colab-df-quickchart\" onclick=\"quickchart('df-7574c159-71b2-4acf-80b8-8dc79e360f09')\"\n",
              "            title=\"Suggest charts\"\n",
              "            style=\"display:none;\">\n",
              "\n",
              "<svg xmlns=\"http://www.w3.org/2000/svg\" height=\"24px\"viewBox=\"0 0 24 24\"\n",
              "     width=\"24px\">\n",
              "    <g>\n",
              "        <path d=\"M19 3H5c-1.1 0-2 .9-2 2v14c0 1.1.9 2 2 2h14c1.1 0 2-.9 2-2V5c0-1.1-.9-2-2-2zM9 17H7v-7h2v7zm4 0h-2V7h2v10zm4 0h-2v-4h2v4z\"/>\n",
              "    </g>\n",
              "</svg>\n",
              "  </button>\n",
              "\n",
              "<style>\n",
              "  .colab-df-quickchart {\n",
              "      --bg-color: #E8F0FE;\n",
              "      --fill-color: #1967D2;\n",
              "      --hover-bg-color: #E2EBFA;\n",
              "      --hover-fill-color: #174EA6;\n",
              "      --disabled-fill-color: #AAA;\n",
              "      --disabled-bg-color: #DDD;\n",
              "  }\n",
              "\n",
              "  [theme=dark] .colab-df-quickchart {\n",
              "      --bg-color: #3B4455;\n",
              "      --fill-color: #D2E3FC;\n",
              "      --hover-bg-color: #434B5C;\n",
              "      --hover-fill-color: #FFFFFF;\n",
              "      --disabled-bg-color: #3B4455;\n",
              "      --disabled-fill-color: #666;\n",
              "  }\n",
              "\n",
              "  .colab-df-quickchart {\n",
              "    background-color: var(--bg-color);\n",
              "    border: none;\n",
              "    border-radius: 50%;\n",
              "    cursor: pointer;\n",
              "    display: none;\n",
              "    fill: var(--fill-color);\n",
              "    height: 32px;\n",
              "    padding: 0;\n",
              "    width: 32px;\n",
              "  }\n",
              "\n",
              "  .colab-df-quickchart:hover {\n",
              "    background-color: var(--hover-bg-color);\n",
              "    box-shadow: 0 1px 2px rgba(60, 64, 67, 0.3), 0 1px 3px 1px rgba(60, 64, 67, 0.15);\n",
              "    fill: var(--button-hover-fill-color);\n",
              "  }\n",
              "\n",
              "  .colab-df-quickchart-complete:disabled,\n",
              "  .colab-df-quickchart-complete:disabled:hover {\n",
              "    background-color: var(--disabled-bg-color);\n",
              "    fill: var(--disabled-fill-color);\n",
              "    box-shadow: none;\n",
              "  }\n",
              "\n",
              "  .colab-df-spinner {\n",
              "    border: 2px solid var(--fill-color);\n",
              "    border-color: transparent;\n",
              "    border-bottom-color: var(--fill-color);\n",
              "    animation:\n",
              "      spin 1s steps(1) infinite;\n",
              "  }\n",
              "\n",
              "  @keyframes spin {\n",
              "    0% {\n",
              "      border-color: transparent;\n",
              "      border-bottom-color: var(--fill-color);\n",
              "      border-left-color: var(--fill-color);\n",
              "    }\n",
              "    20% {\n",
              "      border-color: transparent;\n",
              "      border-left-color: var(--fill-color);\n",
              "      border-top-color: var(--fill-color);\n",
              "    }\n",
              "    30% {\n",
              "      border-color: transparent;\n",
              "      border-left-color: var(--fill-color);\n",
              "      border-top-color: var(--fill-color);\n",
              "      border-right-color: var(--fill-color);\n",
              "    }\n",
              "    40% {\n",
              "      border-color: transparent;\n",
              "      border-right-color: var(--fill-color);\n",
              "      border-top-color: var(--fill-color);\n",
              "    }\n",
              "    60% {\n",
              "      border-color: transparent;\n",
              "      border-right-color: var(--fill-color);\n",
              "    }\n",
              "    80% {\n",
              "      border-color: transparent;\n",
              "      border-right-color: var(--fill-color);\n",
              "      border-bottom-color: var(--fill-color);\n",
              "    }\n",
              "    90% {\n",
              "      border-color: transparent;\n",
              "      border-bottom-color: var(--fill-color);\n",
              "    }\n",
              "  }\n",
              "</style>\n",
              "\n",
              "  <script>\n",
              "    async function quickchart(key) {\n",
              "      const quickchartButtonEl =\n",
              "        document.querySelector('#' + key + ' button');\n",
              "      quickchartButtonEl.disabled = true;  // To prevent multiple clicks.\n",
              "      quickchartButtonEl.classList.add('colab-df-spinner');\n",
              "      try {\n",
              "        const charts = await google.colab.kernel.invokeFunction(\n",
              "            'suggestCharts', [key], {});\n",
              "      } catch (error) {\n",
              "        console.error('Error during call to suggestCharts:', error);\n",
              "      }\n",
              "      quickchartButtonEl.classList.remove('colab-df-spinner');\n",
              "      quickchartButtonEl.classList.add('colab-df-quickchart-complete');\n",
              "    }\n",
              "    (() => {\n",
              "      let quickchartButtonEl =\n",
              "        document.querySelector('#df-7574c159-71b2-4acf-80b8-8dc79e360f09 button');\n",
              "      quickchartButtonEl.style.display =\n",
              "        google.colab.kernel.accessAllowed ? 'block' : 'none';\n",
              "    })();\n",
              "  </script>\n",
              "</div>\n",
              "\n",
              "  <div id=\"id_82c1b018-a2ba-4073-b0d5-c41fe182d829\">\n",
              "    <style>\n",
              "      .colab-df-generate {\n",
              "        background-color: #E8F0FE;\n",
              "        border: none;\n",
              "        border-radius: 50%;\n",
              "        cursor: pointer;\n",
              "        display: none;\n",
              "        fill: #1967D2;\n",
              "        height: 32px;\n",
              "        padding: 0 0 0 0;\n",
              "        width: 32px;\n",
              "      }\n",
              "\n",
              "      .colab-df-generate:hover {\n",
              "        background-color: #E2EBFA;\n",
              "        box-shadow: 0px 1px 2px rgba(60, 64, 67, 0.3), 0px 1px 3px 1px rgba(60, 64, 67, 0.15);\n",
              "        fill: #174EA6;\n",
              "      }\n",
              "\n",
              "      [theme=dark] .colab-df-generate {\n",
              "        background-color: #3B4455;\n",
              "        fill: #D2E3FC;\n",
              "      }\n",
              "\n",
              "      [theme=dark] .colab-df-generate:hover {\n",
              "        background-color: #434B5C;\n",
              "        box-shadow: 0px 1px 3px 1px rgba(0, 0, 0, 0.15);\n",
              "        filter: drop-shadow(0px 1px 2px rgba(0, 0, 0, 0.3));\n",
              "        fill: #FFFFFF;\n",
              "      }\n",
              "    </style>\n",
              "    <button class=\"colab-df-generate\" onclick=\"generateWithVariable('df')\"\n",
              "            title=\"Generate code using this dataframe.\"\n",
              "            style=\"display:none;\">\n",
              "\n",
              "  <svg xmlns=\"http://www.w3.org/2000/svg\" height=\"24px\"viewBox=\"0 0 24 24\"\n",
              "       width=\"24px\">\n",
              "    <path d=\"M7,19H8.4L18.45,9,17,7.55,7,17.6ZM5,21V16.75L18.45,3.32a2,2,0,0,1,2.83,0l1.4,1.43a1.91,1.91,0,0,1,.58,1.4,1.91,1.91,0,0,1-.58,1.4L9.25,21ZM18.45,9,17,7.55Zm-12,3A5.31,5.31,0,0,0,4.9,8.1,5.31,5.31,0,0,0,1,6.5,5.31,5.31,0,0,0,4.9,4.9,5.31,5.31,0,0,0,6.5,1,5.31,5.31,0,0,0,8.1,4.9,5.31,5.31,0,0,0,12,6.5,5.46,5.46,0,0,0,6.5,12Z\"/>\n",
              "  </svg>\n",
              "    </button>\n",
              "    <script>\n",
              "      (() => {\n",
              "      const buttonEl =\n",
              "        document.querySelector('#id_82c1b018-a2ba-4073-b0d5-c41fe182d829 button.colab-df-generate');\n",
              "      buttonEl.style.display =\n",
              "        google.colab.kernel.accessAllowed ? 'block' : 'none';\n",
              "\n",
              "      buttonEl.onclick = () => {\n",
              "        google.colab.notebook.generateWithVariable('df');\n",
              "      }\n",
              "      })();\n",
              "    </script>\n",
              "  </div>\n",
              "\n",
              "    </div>\n",
              "  </div>\n"
            ],
            "application/vnd.google.colaboratory.intrinsic+json": {
              "type": "dataframe",
              "variable_name": "df",
              "repr_error": "'str' object has no attribute 'empty'"
            }
          },
          "metadata": {},
          "execution_count": 23
        }
      ]
    },
    {
      "cell_type": "markdown",
      "source": [
        "## tag based analysis"
      ],
      "metadata": {
        "id": "SdPFQITIrNeZ"
      }
    },
    {
      "cell_type": "code",
      "source": [
        "all_tags=[]\n",
        "no_of_games_per_tag=[]\n",
        "for tags in df['tags']:\n",
        "  all_tags.extend(tags)\n",
        "\n",
        "all_tags=list(set(all_tags))\n",
        "len(all_tags)"
      ],
      "metadata": {
        "colab": {
          "base_uri": "https://localhost:8080/"
        },
        "id": "xN3NpqYflOEP",
        "outputId": "7410a296-a947-41dd-c590-3675182b6f3e"
      },
      "execution_count": 24,
      "outputs": [
        {
          "output_type": "execute_result",
          "data": {
            "text/plain": [
              "116"
            ]
          },
          "metadata": {},
          "execution_count": 24
        }
      ]
    },
    {
      "cell_type": "code",
      "source": [
        "for tag in all_tags:\n",
        "  filtered_rows = df[df['tags'].apply(lambda tags: tag in tags)]\n",
        "  tags_data=(tag,filtered_rows.shape[0])\n",
        "  no_of_games_per_tag.append(tags_data)"
      ],
      "metadata": {
        "id": "RhBrdv8qra-H"
      },
      "execution_count": 25,
      "outputs": []
    },
    {
      "cell_type": "code",
      "source": [
        "tags_count=pd.DataFrame(no_of_games_per_tag,columns=['tags','no_of_games'])\n",
        "tags_count=tags_count.sort_values('no_of_games',ascending=False)\n",
        "tags_count_h=tags_count.head(20)"
      ],
      "metadata": {
        "id": "hgt_Oicx2SCq"
      },
      "execution_count": 26,
      "outputs": []
    },
    {
      "cell_type": "code",
      "source": [
        "import seaborn as sns\n",
        "import matplotlib.pyplot as plt\n",
        "\n",
        "sns.barplot(y='tags', x='no_of_games',data=tags_count_h, palette=\"hls\",legend=True,)\n",
        "\n",
        "\n",
        "# Add a title and axis labels\n",
        "plt.title(\"Number of Games by Tag\")\n",
        "plt.xlabel(\"Number of Games\")\n",
        "plt.ylabel(\"tag\")\n",
        "\n",
        "# Show the plot\n",
        "plt.show()\n",
        "\n"
      ],
      "metadata": {
        "colab": {
          "base_uri": "https://localhost:8080/",
          "height": 569
        },
        "id": "_0JuW8cbtWnZ",
        "outputId": "11f3b29b-5baf-492a-f1fa-28259e0ac90c"
      },
      "execution_count": 27,
      "outputs": [
        {
          "output_type": "stream",
          "name": "stderr",
          "text": [
            "<ipython-input-27-0ae3fa3b907b>:4: FutureWarning: \n",
            "\n",
            "Passing `palette` without assigning `hue` is deprecated and will be removed in v0.14.0. Assign the `y` variable to `hue` and set `legend=False` for the same effect.\n",
            "\n",
            "  sns.barplot(y='tags', x='no_of_games',data=tags_count_h, palette=\"hls\",legend=True,)\n"
          ]
        },
        {
          "output_type": "display_data",
          "data": {
            "text/plain": [
              "<Figure size 640x480 with 1 Axes>"
            ],
            "image/png": "[encoded data removed]"
          },
          "metadata": {}
        }
      ]
    },
    {
      "cell_type": "code",
      "source": [
        "df['downloads']=df['downloads'].astype(int)\n",
        "df['rating_value']=df['rating_value'].astype(float)\n",
        "df['last_update']=pd.to_datetime(df['last_update'])\n",
        "df.dtypes"
      ],
      "metadata": {
        "colab": {
          "base_uri": "https://localhost:8080/"
        },
        "id": "kAmmn9B_opTW",
        "outputId": "25af8898-bf35-48d5-e802-a2c0a09cf32e"
      },
      "execution_count": 28,
      "outputs": [
        {
          "output_type": "execute_result",
          "data": {
            "text/plain": [
              "app_name                  object\n",
              "downloads                  int64\n",
              "rating_value             float64\n",
              "editor_choice               bool\n",
              "content_rating            object\n",
              "price                    float64\n",
              "tags                      object\n",
              "last_update       datetime64[ns]\n",
              "dtype: object"
            ]
          },
          "metadata": {},
          "execution_count": 28
        }
      ]
    },
    {
      "cell_type": "code",
      "source": [
        "df.info()"
      ],
      "metadata": {
        "colab": {
          "base_uri": "https://localhost:8080/"
        },
        "id": "N86a78yGgL1m",
        "outputId": "d10a1625-18c9-4ffd-dbc5-75d5c58bba13"
      },
      "execution_count": 29,
      "outputs": [
        {
          "output_type": "stream",
          "name": "stdout",
          "text": [
            "<class 'pandas.core.frame.DataFrame'>\n",
            "RangeIndex: 300 entries, 0 to 299\n",
            "Data columns (total 8 columns):\n",
            " #   Column          Non-Null Count  Dtype         \n",
            "---  ------          --------------  -----         \n",
            " 0   app_name        300 non-null    object        \n",
            " 1   downloads       300 non-null    int64         \n",
            " 2   rating_value    300 non-null    float64       \n",
            " 3   editor_choice   300 non-null    bool          \n",
            " 4   content_rating  300 non-null    object        \n",
            " 5   price           300 non-null    float64       \n",
            " 6   tags            300 non-null    object        \n",
            " 7   last_update     300 non-null    datetime64[ns]\n",
            "dtypes: bool(1), datetime64[ns](1), float64(2), int64(1), object(3)\n",
            "memory usage: 16.8+ KB\n"
          ]
        }
      ]
    },
    {
      "cell_type": "markdown",
      "source": [
        "## Data analysis"
      ],
      "metadata": {
        "id": "caHTmiqDj69G"
      }
    },
    {
      "cell_type": "code",
      "source": [
        "df_highest_downloads=df[df['downloads']==df['downloads'].max()]\n",
        "df_highest_downloads.sort_values('rating_value',ascending=False)"
      ],
      "metadata": {
        "colab": {
          "base_uri": "https://localhost:8080/",
          "height": 826
        },
        "id": "S1Mgp3hQlv0M",
        "outputId": "29b68e7c-dc4a-4436-d35f-5177944e92f2"
      },
      "execution_count": 30,
      "outputs": [
        {
          "output_type": "execute_result",
          "data": {
            "text/plain": [
              "                 app_name   downloads  rating_value  editor_choice  \\\n",
              "9          Subway Surfers  1000000000           4.6           True   \n",
              "27       Candy Crush Saga  1000000000           4.6           True   \n",
              "30            8 Ball Pool  1000000000           4.5           True   \n",
              "165          Temple Run 2  1000000000           4.4           True   \n",
              "278        My Talking Tom  1000000000           4.4          False   \n",
              "207  Free Fire: The Chaos  1000000000           4.2           True   \n",
              "298          Ludo Kingâ¢  1000000000           4.0          False   \n",
              "\n",
              "    content_rating  price                                               tags  \\\n",
              "9     Everyone 10+    0.0  [Action, Platformer, Runner, Arcade, Single pl...   \n",
              "27        Everyone    0.0  [Puzzle, Match 3, Casual, Single player, Styli...   \n",
              "30        Everyone    0.0  [Sports, Billiards, Casual, Multiplayer, Compe...   \n",
              "165   Everyone 10+    0.0  [Action, Platformer, Runner, Arcade, Single pl...   \n",
              "278   Everyone 10+    0.0  [Simulation, Care, Pet, Casual, Single player,...   \n",
              "207     Mature 17+    0.0  [Action, Shooter, Tactical shooter, Casual, St...   \n",
              "298       Everyone    0.0  [Board, Abstract strategy, Ludo, Casual, Multi...   \n",
              "\n",
              "    last_update  \n",
              "9    2024-02-23  \n",
              "27   2024-02-26  \n",
              "30   2024-02-19  \n",
              "165  2024-01-12  \n",
              "278  2024-02-15  \n",
              "207  2024-01-14  \n",
              "298  2024-02-08  "
            ],
            "text/html": [
              "\n",
              "  <div id=\"df-e9b857ec-c0cf-4af5-aff1-c0241a6cbb6d\" class=\"colab-df-container\">\n",
              "    <div>\n",
              "<style scoped>\n",
              "    .dataframe tbody tr th:only-of-type {\n",
              "        vertical-align: middle;\n",
              "    }\n",
              "\n",
              "    .dataframe tbody tr th {\n",
              "        vertical-align: top;\n",
              "    }\n",
              "\n",
              "    .dataframe thead th {\n",
              "        text-align: right;\n",
              "    }\n",
              "</style>\n",
              "<table border=\"1\" class=\"dataframe\">\n",
              "  <thead>\n",
              "    <tr style=\"text-align: right;\">\n",
              "      <th></th>\n",
              "      <th>app_name</th>\n",
              "      <th>downloads</th>\n",
              "      <th>rating_value</th>\n",
              "      <th>editor_choice</th>\n",
              "      <th>content_rating</th>\n",
              "      <th>price</th>\n",
              "      <th>tags</th>\n",
              "      <th>last_update</th>\n",
              "    </tr>\n",
              "  </thead>\n",
              "  <tbody>\n",
              "    <tr>\n",
              "      <th>9</th>\n",
              "      <td>Subway Surfers</td>\n",
              "      <td>1000000000</td>\n",
              "      <td>4.6</td>\n",
              "      <td>True</td>\n",
              "      <td>Everyone 10+</td>\n",
              "      <td>0.0</td>\n",
              "      <td>[Action, Platformer, Runner, Arcade, Single pl...</td>\n",
              "      <td>2024-02-23</td>\n",
              "    </tr>\n",
              "    <tr>\n",
              "      <th>27</th>\n",
              "      <td>Candy Crush Saga</td>\n",
              "      <td>1000000000</td>\n",
              "      <td>4.6</td>\n",
              "      <td>True</td>\n",
              "      <td>Everyone</td>\n",
              "      <td>0.0</td>\n",
              "      <td>[Puzzle, Match 3, Casual, Single player, Styli...</td>\n",
              "      <td>2024-02-26</td>\n",
              "    </tr>\n",
              "    <tr>\n",
              "      <th>30</th>\n",
              "      <td>8 Ball Pool</td>\n",
              "      <td>1000000000</td>\n",
              "      <td>4.5</td>\n",
              "      <td>True</td>\n",
              "      <td>Everyone</td>\n",
              "      <td>0.0</td>\n",
              "      <td>[Sports, Billiards, Casual, Multiplayer, Compe...</td>\n",
              "      <td>2024-02-19</td>\n",
              "    </tr>\n",
              "    <tr>\n",
              "      <th>165</th>\n",
              "      <td>Temple Run 2</td>\n",
              "      <td>1000000000</td>\n",
              "      <td>4.4</td>\n",
              "      <td>True</td>\n",
              "      <td>Everyone 10+</td>\n",
              "      <td>0.0</td>\n",
              "      <td>[Action, Platformer, Runner, Arcade, Single pl...</td>\n",
              "      <td>2024-01-12</td>\n",
              "    </tr>\n",
              "    <tr>\n",
              "      <th>278</th>\n",
              "      <td>My Talking Tom</td>\n",
              "      <td>1000000000</td>\n",
              "      <td>4.4</td>\n",
              "      <td>False</td>\n",
              "      <td>Everyone 10+</td>\n",
              "      <td>0.0</td>\n",
              "      <td>[Simulation, Care, Pet, Casual, Single player,...</td>\n",
              "      <td>2024-02-15</td>\n",
              "    </tr>\n",
              "    <tr>\n",
              "      <th>207</th>\n",
              "      <td>Free Fire: The Chaos</td>\n",
              "      <td>1000000000</td>\n",
              "      <td>4.2</td>\n",
              "      <td>True</td>\n",
              "      <td>Mature 17+</td>\n",
              "      <td>0.0</td>\n",
              "      <td>[Action, Shooter, Tactical shooter, Casual, St...</td>\n",
              "      <td>2024-01-14</td>\n",
              "    </tr>\n",
              "    <tr>\n",
              "      <th>298</th>\n",
              "      <td>Ludo Kingâ¢</td>\n",
              "      <td>1000000000</td>\n",
              "      <td>4.0</td>\n",
              "      <td>False</td>\n",
              "      <td>Everyone</td>\n",
              "      <td>0.0</td>\n",
              "      <td>[Board, Abstract strategy, Ludo, Casual, Multi...</td>\n",
              "      <td>2024-02-08</td>\n",
              "    </tr>\n",
              "  </tbody>\n",
              "</table>\n",
              "</div>\n",
              "    <div class=\"colab-df-buttons\">\n",
              "\n",
              "  <div class=\"colab-df-container\">\n",
              "    <button class=\"colab-df-convert\" onclick=\"convertToInteractive('df-e9b857ec-c0cf-4af5-aff1-c0241a6cbb6d')\"\n",
              "            title=\"Convert this dataframe to an interactive table.\"\n",
              "            style=\"display:none;\">\n",
              "\n",
              "  <svg xmlns=\"http://www.w3.org/2000/svg\" height=\"24px\" viewBox=\"0 -960 960 960\">\n",
              "    <path d=\"M120-120v-720h720v720H120Zm60-500h600v-160H180v160Zm220 220h160v-160H400v160Zm0 220h160v-160H400v160ZM180-400h160v-160H180v160Zm440 0h160v-160H620v160ZM180-180h160v-160H180v160Zm440 0h160v-160H620v160Z\"/>\n",
              "  </svg>\n",
              "    </button>\n",
              "\n",
              "  <style>\n",
              "    .colab-df-container {\n",
              "      display:flex;\n",
              "      gap: 12px;\n",
              "    }\n",
              "\n",
              "    .colab-df-convert {\n",
              "      background-color: #E8F0FE;\n",
              "      border: none;\n",
              "      border-radius: 50%;\n",
              "      cursor: pointer;\n",
              "      display: none;\n",
              "      fill: #1967D2;\n",
              "      height: 32px;\n",
              "      padding: 0 0 0 0;\n",
              "      width: 32px;\n",
              "    }\n",
              "\n",
              "    .colab-df-convert:hover {\n",
              "      background-color: #E2EBFA;\n",
              "      box-shadow: 0px 1px 2px rgba(60, 64, 67, 0.3), 0px 1px 3px 1px rgba(60, 64, 67, 0.15);\n",
              "      fill: #174EA6;\n",
              "    }\n",
              "\n",
              "    .colab-df-buttons div {\n",
              "      margin-bottom: 4px;\n",
              "    }\n",
              "\n",
              "    [theme=dark] .colab-df-convert {\n",
              "      background-color: #3B4455;\n",
              "      fill: #D2E3FC;\n",
              "    }\n",
              "\n",
              "    [theme=dark] .colab-df-convert:hover {\n",
              "      background-color: #434B5C;\n",
              "      box-shadow: 0px 1px 3px 1px rgba(0, 0, 0, 0.15);\n",
              "      filter: drop-shadow(0px 1px 2px rgba(0, 0, 0, 0.3));\n",
              "      fill: #FFFFFF;\n",
              "    }\n",
              "  </style>\n",
              "\n",
              "    <script>\n",
              "      const buttonEl =\n",
              "        document.querySelector('#df-e9b857ec-c0cf-4af5-aff1-c0241a6cbb6d button.colab-df-convert');\n",
              "      buttonEl.style.display =\n",
              "        google.colab.kernel.accessAllowed ? 'block' : 'none';\n",
              "\n",
              "      async function convertToInteractive(key) {\n",
              "        const element = document.querySelector('#df-e9b857ec-c0cf-4af5-aff1-c0241a6cbb6d');\n",
              "        const dataTable =\n",
              "          await google.colab.kernel.invokeFunction('convertToInteractive',\n",
              "                                                    [key], {});\n",
              "        if (!dataTable) return;\n",
              "\n",
              "        const docLinkHtml = 'Like what you see? Visit the ' +\n",
              "          '<a target=\"_blank\" href=https://colab.research.google.com/notebooks/data_table.ipynb>data table notebook</a>'\n",
              "          + ' to learn more about interactive tables.';\n",
              "        element.innerHTML = '';\n",
              "        dataTable['output_type'] = 'display_data';\n",
              "        await google.colab.output.renderOutput(dataTable, element);\n",
              "        const docLink = document.createElement('div');\n",
              "        docLink.innerHTML = docLinkHtml;\n",
              "        element.appendChild(docLink);\n",
              "      }\n",
              "    </script>\n",
              "  </div>\n",
              "\n",
              "\n",
              "<div id=\"df-c2b3bcbf-e424-41b8-98d4-edee91aa6c30\">\n",
              "  <button class=\"colab-df-quickchart\" onclick=\"quickchart('df-c2b3bcbf-e424-41b8-98d4-edee91aa6c30')\"\n",
              "            title=\"Suggest charts\"\n",
              "            style=\"display:none;\">\n",
              "\n",
              "<svg xmlns=\"http://www.w3.org/2000/svg\" height=\"24px\"viewBox=\"0 0 24 24\"\n",
              "     width=\"24px\">\n",
              "    <g>\n",
              "        <path d=\"M19 3H5c-1.1 0-2 .9-2 2v14c0 1.1.9 2 2 2h14c1.1 0 2-.9 2-2V5c0-1.1-.9-2-2-2zM9 17H7v-7h2v7zm4 0h-2V7h2v10zm4 0h-2v-4h2v4z\"/>\n",
              "    </g>\n",
              "</svg>\n",
              "  </button>\n",
              "\n",
              "<style>\n",
              "  .colab-df-quickchart {\n",
              "      --bg-color: #E8F0FE;\n",
              "      --fill-color: #1967D2;\n",
              "      --hover-bg-color: #E2EBFA;\n",
              "      --hover-fill-color: #174EA6;\n",
              "      --disabled-fill-color: #AAA;\n",
              "      --disabled-bg-color: #DDD;\n",
              "  }\n",
              "\n",
              "  [theme=dark] .colab-df-quickchart {\n",
              "      --bg-color: #3B4455;\n",
              "      --fill-color: #D2E3FC;\n",
              "      --hover-bg-color: #434B5C;\n",
              "      --hover-fill-color: #FFFFFF;\n",
              "      --disabled-bg-color: #3B4455;\n",
              "      --disabled-fill-color: #666;\n",
              "  }\n",
              "\n",
              "  .colab-df-quickchart {\n",
              "    background-color: var(--bg-color);\n",
              "    border: none;\n",
              "    border-radius: 50%;\n",
              "    cursor: pointer;\n",
              "    display: none;\n",
              "    fill: var(--fill-color);\n",
              "    height: 32px;\n",
              "    padding: 0;\n",
              "    width: 32px;\n",
              "  }\n",
              "\n",
              "  .colab-df-quickchart:hover {\n",
              "    background-color: var(--hover-bg-color);\n",
              "    box-shadow: 0 1px 2px rgba(60, 64, 67, 0.3), 0 1px 3px 1px rgba(60, 64, 67, 0.15);\n",
              "    fill: var(--button-hover-fill-color);\n",
              "  }\n",
              "\n",
              "  .colab-df-quickchart-complete:disabled,\n",
              "  .colab-df-quickchart-complete:disabled:hover {\n",
              "    background-color: var(--disabled-bg-color);\n",
              "    fill: var(--disabled-fill-color);\n",
              "    box-shadow: none;\n",
              "  }\n",
              "\n",
              "  .colab-df-spinner {\n",
              "    border: 2px solid var(--fill-color);\n",
              "    border-color: transparent;\n",
              "    border-bottom-color: var(--fill-color);\n",
              "    animation:\n",
              "      spin 1s steps(1) infinite;\n",
              "  }\n",
              "\n",
              "  @keyframes spin {\n",
              "    0% {\n",
              "      border-color: transparent;\n",
              "      border-bottom-color: var(--fill-color);\n",
              "      border-left-color: var(--fill-color);\n",
              "    }\n",
              "    20% {\n",
              "      border-color: transparent;\n",
              "      border-left-color: var(--fill-color);\n",
              "      border-top-color: var(--fill-color);\n",
              "    }\n",
              "    30% {\n",
              "      border-color: transparent;\n",
              "      border-left-color: var(--fill-color);\n",
              "      border-top-color: var(--fill-color);\n",
              "      border-right-color: var(--fill-color);\n",
              "    }\n",
              "    40% {\n",
              "      border-color: transparent;\n",
              "      border-right-color: var(--fill-color);\n",
              "      border-top-color: var(--fill-color);\n",
              "    }\n",
              "    60% {\n",
              "      border-color: transparent;\n",
              "      border-right-color: var(--fill-color);\n",
              "    }\n",
              "    80% {\n",
              "      border-color: transparent;\n",
              "      border-right-color: var(--fill-color);\n",
              "      border-bottom-color: var(--fill-color);\n",
              "    }\n",
              "    90% {\n",
              "      border-color: transparent;\n",
              "      border-bottom-color: var(--fill-color);\n",
              "    }\n",
              "  }\n",
              "</style>\n",
              "\n",
              "  <script>\n",
              "    async function quickchart(key) {\n",
              "      const quickchartButtonEl =\n",
              "        document.querySelector('#' + key + ' button');\n",
              "      quickchartButtonEl.disabled = true;  // To prevent multiple clicks.\n",
              "      quickchartButtonEl.classList.add('colab-df-spinner');\n",
              "      try {\n",
              "        const charts = await google.colab.kernel.invokeFunction(\n",
              "            'suggestCharts', [key], {});\n",
              "      } catch (error) {\n",
              "        console.error('Error during call to suggestCharts:', error);\n",
              "      }\n",
              "      quickchartButtonEl.classList.remove('colab-df-spinner');\n",
              "      quickchartButtonEl.classList.add('colab-df-quickchart-complete');\n",
              "    }\n",
              "    (() => {\n",
              "      let quickchartButtonEl =\n",
              "        document.querySelector('#df-c2b3bcbf-e424-41b8-98d4-edee91aa6c30 button');\n",
              "      quickchartButtonEl.style.display =\n",
              "        google.colab.kernel.accessAllowed ? 'block' : 'none';\n",
              "    })();\n",
              "  </script>\n",
              "</div>\n",
              "\n",
              "    </div>\n",
              "  </div>\n"
            ],
            "application/vnd.google.colaboratory.intrinsic+json": {
              "type": "dataframe",
              "summary": "{\n  \"name\": \"df_highest_downloads\",\n  \"rows\": 7,\n  \"fields\": [\n    {\n      \"column\": \"app_name\",\n      \"properties\": {\n        \"dtype\": \"string\",\n        \"num_unique_values\": 7,\n        \"samples\": [\n          \"Subway Surfers\",\n          \"Candy Crush Saga\",\n          \"Free Fire: The Chaos\"\n        ],\n        \"semantic_type\": \"\",\n        \"description\": \"\"\n      }\n    },\n    {\n      \"column\": \"downloads\",\n      \"properties\": {\n        \"dtype\": \"number\",\n        \"std\": 0,\n        \"min\": 1000000000,\n        \"max\": 1000000000,\n        \"num_unique_values\": 1,\n        \"samples\": [\n          1000000000\n        ],\n        \"semantic_type\": \"\",\n        \"description\": \"\"\n      }\n    },\n    {\n      \"column\": \"rating_value\",\n      \"properties\": {\n        \"dtype\": \"number\",\n        \"std\": 0.2193062655175133,\n        \"min\": 4.0,\n        \"max\": 4.6,\n        \"num_unique_values\": 5,\n        \"samples\": [\n          4.5\n        ],\n        \"semantic_type\": \"\",\n        \"description\": \"\"\n      }\n    },\n    {\n      \"column\": \"editor_choice\",\n      \"properties\": {\n        \"dtype\": \"boolean\",\n        \"num_unique_values\": 2,\n        \"samples\": [\n          false\n        ],\n        \"semantic_type\": \"\",\n        \"description\": \"\"\n      }\n    },\n    {\n      \"column\": \"content_rating\",\n      \"properties\": {\n        \"dtype\": \"category\",\n        \"num_unique_values\": 3,\n        \"samples\": [\n          \"Everyone 10+\"\n        ],\n        \"semantic_type\": \"\",\n        \"description\": \"\"\n      }\n    },\n    {\n      \"column\": \"price\",\n      \"properties\": {\n        \"dtype\": \"number\",\n        \"std\": 0.0,\n        \"min\": 0.0,\n        \"max\": 0.0,\n        \"num_unique_values\": 1,\n        \"samples\": [\n          0.0\n        ],\n        \"semantic_type\": \"\",\n        \"description\": \"\"\n      }\n    },\n    {\n      \"column\": \"tags\",\n      \"properties\": {\n        \"dtype\": \"object\",\n        \"semantic_type\": \"\",\n        \"description\": \"\"\n      }\n    },\n    {\n      \"column\": \"last_update\",\n      \"properties\": {\n        \"dtype\": \"date\",\n        \"min\": \"2024-01-12 00:00:00\",\n        \"max\": \"2024-02-26 00:00:00\",\n        \"num_unique_values\": 7,\n        \"samples\": [\n          \"2024-02-23 00:00:00\"\n        ],\n        \"semantic_type\": \"\",\n        \"description\": \"\"\n      }\n    }\n  ]\n}"
            }
          },
          "metadata": {},
          "execution_count": 30
        }
      ]
    },
    {
      "cell_type": "code",
      "source": [
        "plt.figure(figsize=(12, 6))\n",
        "sns.histplot(df['downloads'], bins=20)\n",
        "plt.xticks(rotation=90)\n",
        "plt.title('Distribution of Downloads')\n",
        "plt.xlabel('Downloads')\n",
        "plt.ylabel('Frequency')\n",
        "plt.show()\n"
      ],
      "metadata": {
        "colab": {
          "base_uri": "https://localhost:8080/",
          "height": 402
        },
        "id": "PLmPhyEC5eOI",
        "outputId": "a0ae984c-dd20-41f2-f003-312add472f4c"
      },
      "execution_count": 33,
      "outputs": [
        {
          "output_type": "display_data",
          "data": {
            "text/plain": [
              "<Figure size 1200x600 with 1 Axes>"
            ],
            "image/png": "[encoded data removed]"
          },
          "metadata": {}
        }
      ]
    },
    {
      "cell_type": "markdown",
      "source": [
        "## general plots\n"
      ],
      "metadata": {
        "id": "dUnBcWCNf-P6"
      }
    },
    {
      "source": [
        "df['rating_value'].plot(kind='hist', bins=20, title='rating_value')\n",
        "plt.gca().spines[['top', 'right',]].set_visible(False)"
      ],
      "cell_type": "code",
      "metadata": {
        "id": "NvYv6utRq5Nl",
        "colab": {
          "base_uri": "https://localhost:8080/",
          "height": 452
        },
        "outputId": "11266a8f-210c-4ab5-b0db-628d86607c2c"
      },
      "execution_count": 35,
      "outputs": [
        {
          "output_type": "display_data",
          "data": {
            "text/plain": [
              "<Figure size 640x480 with 1 Axes>"
            ],
            "image/png": "[encoded data removed]"
          },
          "metadata": {}
        }
      ]
    },
    {
      "source": [
        "df.groupby('editor_choice').size().plot(kind='barh', color=sns.palettes.mpl_palette('Dark2'))\n",
        "plt.gca().spines[['top', 'right',]].set_visible(False)"
      ],
      "cell_type": "code",
      "metadata": {
        "id": "OPKdxyw6q1rj",
        "colab": {
          "base_uri": "https://localhost:8080/",
          "height": 430
        },
        "outputId": "31686132-b5cb-4718-e2ad-ae26bf62df8f"
      },
      "execution_count": 36,
      "outputs": [
        {
          "output_type": "display_data",
          "data": {
            "text/plain": [
              "<Figure size 640x480 with 1 Axes>"
            ],
            "image/png": "[encoded data removed]"
          },
          "metadata": {}
        }
      ]
    },
    {
      "source": [
        "df.groupby('content_rating').size().plot(kind='barh', color=sns.palettes.mpl_palette('Dark2'))\n",
        "plt.gca().spines[['top', 'right',]].set_visible(False)"
      ],
      "cell_type": "code",
      "metadata": {
        "id": "W3L11tivq0M3",
        "colab": {
          "base_uri": "https://localhost:8080/",
          "height": 430
        },
        "outputId": "e602ae8e-617d-4647-bcf5-753df42c7fc5"
      },
      "execution_count": 37,
      "outputs": [
        {
          "output_type": "display_data",
          "data": {
            "text/plain": [
              "<Figure size 640x480 with 1 Axes>"
            ],
            "image/png": "[encoded data removed]"
          },
          "metadata": {}
        }
      ]
    }
  ]
}